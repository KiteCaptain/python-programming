{
 "cells": [
  {
   "attachments": {},
   "cell_type": "markdown",
   "metadata": {},
   "source": [
    "#### Creating a regex object"
   ]
  },
  {
   "cell_type": "code",
   "execution_count": 2,
   "metadata": {},
   "outputs": [],
   "source": [
    "import re"
   ]
  },
  {
   "cell_type": "code",
   "execution_count": 3,
   "metadata": {},
   "outputs": [],
   "source": [
    "phoneNumRegex = re.compile(r'\\d\\d\\d-\\d\\d\\d-\\d\\d\\d\\d')"
   ]
  },
  {
   "attachments": {},
   "cell_type": "markdown",
   "metadata": {},
   "source": [
    "By putting an r before the first quote of the string value, you \n",
    "can mark the string as a raw string, which does not escape characters."
   ]
  },
  {
   "cell_type": "code",
   "execution_count": 8,
   "metadata": {},
   "outputs": [
    {
     "name": "stdout",
     "output_type": "stream",
     "text": [
      "Phone number found: 415-555-4242\n"
     ]
    }
   ],
   "source": [
    "# Matching the regex object\n",
    "mo = phoneNumRegex.search('My number is 415-555-4242.')\n",
    "print('Phone number found: %s' % (mo.group()))"
   ]
  },
  {
   "cell_type": "code",
   "execution_count": 9,
   "metadata": {},
   "outputs": [
    {
     "name": "stdout",
     "output_type": "stream",
     "text": [
      "Phone number : 254-771-3212, Area code: 254, Unique id: 771-3212\n"
     ]
    }
   ],
   "source": [
    "# Grouping with parentheses\n",
    "## example. separating area code from the rest of the phone number\n",
    "phoneNumRegex = re.compile(r'(\\d\\d\\d)-(\\d\\d\\d-\\d\\d\\d\\d)')\n",
    "mo = phoneNumRegex.search('My number is 254-771-3212')\n",
    "print(\"Phone number : %s, Area code: %s, Unique id: %s\" % (mo.group(), mo.group(1), mo.group(2)))"
   ]
  },
  {
   "cell_type": "code",
   "execution_count": 11,
   "metadata": {},
   "outputs": [
    {
     "name": "stdout",
     "output_type": "stream",
     "text": [
      "Area Code: 254, Main Number: 771-3212\n"
     ]
    }
   ],
   "source": [
    "areaCode, mainNumber = mo.groups(0)\n",
    "print(\"Area Code: %s, Main Number: %s\" % (areaCode, mainNumber))"
   ]
  },
  {
   "cell_type": "code",
   "execution_count": 22,
   "metadata": {},
   "outputs": [
    {
     "name": "stdout",
     "output_type": "stream",
     "text": [
      "Area Code: (254), Main Number: 434-2323\n"
     ]
    }
   ],
   "source": [
    "phoneNumRegex = re.compile(r'(\\(\\d\\d\\d\\))(\\d\\d\\d-\\d\\d\\d\\d)')\n",
    "num = phoneNumRegex.search(\"My phine number is (254)434-2323.\")\n",
    "areaCode, mainNumber = num.groups()\n",
    "print(\"Area Code: %s, Main Number: %s\" % (areaCode, mainNumber))"
   ]
  },
  {
   "attachments": {},
   "cell_type": "markdown",
   "metadata": {},
   "source": [
    "##### Matching multiple groups with a pipe"
   ]
  },
  {
   "attachments": {},
   "cell_type": "markdown",
   "metadata": {},
   "source": [
    "The | character is called a pipe. You can use it anywhere you want to match one \n",
    "of many expressions. For example, the regular expression r'Batman|Tina Fey'\n",
    "will match either 'Batman' or 'Super man'."
   ]
  },
  {
   "cell_type": "code",
   "execution_count": 24,
   "metadata": {},
   "outputs": [
    {
     "name": "stdout",
     "output_type": "stream",
     "text": [
      "My hero is: Batman\n"
     ]
    },
    {
     "data": {
      "text/plain": [
       "()"
      ]
     },
     "execution_count": 24,
     "metadata": {},
     "output_type": "execute_result"
    }
   ],
   "source": [
    "heroRegex = re.compile(r'Batman|Super man')\n",
    "hero = heroRegex.search(\"Despite being a fan of Batman, I think superman is much cooler. And stronger\")\n",
    "print(\"My hero is: %s\" % (hero.group()))\n",
    "hero.groups()"
   ]
  },
  {
   "cell_type": "code",
   "execution_count": 8,
   "metadata": {},
   "outputs": [
    {
     "data": {
      "text/plain": [
       "'h e l l o  W or l d'"
      ]
     },
     "execution_count": 8,
     "metadata": {},
     "output_type": "execute_result"
    }
   ],
   "source": [
    "x = (\" h e l l o  W or l d\")\n",
    "out = x.strip() #Removes spaces in text before and after the string\n",
    "out"
   ]
  },
  {
   "attachments": {},
   "cell_type": "markdown",
   "metadata": {},
   "source": [
    "#### Lambda function"
   ]
  },
  {
   "attachments": {},
   "cell_type": "markdown",
   "metadata": {},
   "source": [
    "Lambda functions, also known as anonymous functions, are a feature in Python that allow you to create small, one-line functions on the fly without defining them using the def keyword.\n",
    "\n",
    "Lambda functions are useful in situations where you need to define a simple function that will only be used once and you don't want to go through the trouble of defining a regular function. They are commonly used with higher-order functions such as filter(), map(), and reduce(), where a function needs to be passed as an argument."
   ]
  },
  {
   "cell_type": "code",
   "execution_count": 9,
   "metadata": {},
   "outputs": [
    {
     "name": "stdout",
     "output_type": "stream",
     "text": [
      "[{'name': 'Alice', 'age': 25}, {'name': 'kite', 'age': 34}, {'name': 'captain', 'age': 45}]\n"
     ]
    }
   ],
   "source": [
    "my_list = [{'name': 'Alice', 'age': 25},\n",
    "           {'name': 'captain', 'age': 45},\n",
    "           {'name': 'kite', 'age': 34},\n",
    "           ]\n",
    "\n",
    "sorted_list = sorted(my_list, key=lambda x : x['age'])\n",
    "print(sorted_list)"
   ]
  },
  {
   "attachments": {},
   "cell_type": "markdown",
   "metadata": {},
   "source": [
    "##### Filtering a list"
   ]
  },
  {
   "cell_type": "code",
   "execution_count": 11,
   "metadata": {},
   "outputs": [
    {
     "data": {
      "text/plain": [
       "[<filter at 0x2c8278e3fd0>]"
      ]
     },
     "execution_count": 11,
     "metadata": {},
     "output_type": "execute_result"
    }
   ],
   "source": [
    "my_list = [2,3,4,5,6,7,8,9]\n",
    "filtered_list = [filter(lambda x: x % 2 == 0, my_list)]\n",
    "filtered_list"
   ]
  },
  {
   "attachments": {},
   "cell_type": "markdown",
   "metadata": {},
   "source": [
    "##### Mapping a list"
   ]
  },
  {
   "cell_type": "code",
   "execution_count": 12,
   "metadata": {},
   "outputs": [
    {
     "data": {
      "text/plain": [
       "[4, 9, 16, 25, 36, 49, 64, 81]"
      ]
     },
     "execution_count": 12,
     "metadata": {},
     "output_type": "execute_result"
    }
   ],
   "source": [
    "my_list = [2,3,4,5,6,7,8,9]\n",
    "mapped_list = list(map(lambda x: x **2, my_list))\n",
    "mapped_list"
   ]
  },
  {
   "attachments": {},
   "cell_type": "markdown",
   "metadata": {},
   "source": [
    "##### Reducing a list\n",
    "Reducing a list: You can use lambda functions with the reduce() function to compute a single value from a list. For example, to compute the product of all the elements in a list:"
   ]
  },
  {
   "cell_type": "code",
   "execution_count": 13,
   "metadata": {},
   "outputs": [
    {
     "data": {
      "text/plain": [
       "282240"
      ]
     },
     "execution_count": 13,
     "metadata": {},
     "output_type": "execute_result"
    }
   ],
   "source": [
    "from functools import reduce \n",
    "my_list = [2,3,4,5,6,7,7,8]\n",
    "product = reduce (lambda x, y: x * y, my_list)\n",
    "product"
   ]
  }
 ],
 "metadata": {
  "kernelspec": {
   "display_name": "Python 3",
   "language": "python",
   "name": "python3"
  },
  "language_info": {
   "codemirror_mode": {
    "name": "ipython",
    "version": 3
   },
   "file_extension": ".py",
   "mimetype": "text/x-python",
   "name": "python",
   "nbconvert_exporter": "python",
   "pygments_lexer": "ipython3",
   "version": "3.10.9"
  },
  "orig_nbformat": 4
 },
 "nbformat": 4,
 "nbformat_minor": 2
}
