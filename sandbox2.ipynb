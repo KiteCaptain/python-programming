{
 "cells": [
  {
   "cell_type": "code",
   "execution_count": 7,
   "metadata": {},
   "outputs": [
    {
     "data": {
      "text/plain": [
       "(199, 202, 252)"
      ]
     },
     "execution_count": 7,
     "metadata": {},
     "output_type": "execute_result"
    }
   ],
   "source": [
    "def color_invert(rgb):\n",
    "    if not isinstance(rgb, tuple) or len(rgb) != 3 or not all(0 <= i <= 255 for i in rgb):\n",
    "        raise ValueError(\"Input must be tuple containing rgb values\")\n",
    "\t\n",
    "    rgb_list = []\n",
    "    for i in rgb:\n",
    "        rgb_list.append(255 - i)\n",
    "    return tuple(rgb_list)\n",
    "\n",
    "color_invert((56, 53, 3))"
   ]
  },
  {
   "cell_type": "code",
   "execution_count": 16,
   "metadata": {},
   "outputs": [
    {
     "data": {
      "text/plain": [
       "9.999999999999998"
      ]
     },
     "execution_count": 16,
     "metadata": {},
     "output_type": "execute_result"
    }
   ],
   "source": [
    "# Solving for exponentials\n",
    "import math\n",
    "def solve_for_exp(a, b):\n",
    "\tx = math.log(b, a)\n",
    "\treturn x\n",
    "solve_for_exp(9, 3486784401)"
   ]
  },
  {
   "cell_type": "code",
   "execution_count": 18,
   "metadata": {},
   "outputs": [
    {
     "name": "stdout",
     "output_type": "stream",
     "text": [
      "5.0 5\n",
      "10.0 10\n",
      "9.999999999999998 10\n",
      "16.0 16\n",
      "9.000000000000002 9\n",
      "6.0 6\n",
      "8.0 8\n"
     ]
    }
   ],
   "source": [
    "# Replace the print statements with a test case\n",
    "print(solve_for_exp(4, 1024), 5)\n",
    "print(solve_for_exp(2, 1024), 10)\n",
    "print(solve_for_exp(9, 3486784401), 10)\n",
    "print(solve_for_exp(4, 4294967296), 16)\n",
    "print(solve_for_exp(8, 134217728), 9)\n",
    "print(solve_for_exp(19, 47045881), 6)\n",
    "print(solve_for_exp(10, 100000000), 8)"
   ]
  }
 ],
 "metadata": {
  "kernelspec": {
   "display_name": "Python 3",
   "language": "python",
   "name": "python3"
  },
  "language_info": {
   "codemirror_mode": {
    "name": "ipython",
    "version": 3
   },
   "file_extension": ".py",
   "mimetype": "text/x-python",
   "name": "python",
   "nbconvert_exporter": "python",
   "pygments_lexer": "ipython3",
   "version": "3.11.2"
  },
  "orig_nbformat": 4
 },
 "nbformat": 4,
 "nbformat_minor": 2
}
