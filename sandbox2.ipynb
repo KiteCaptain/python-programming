{
 "cells": [
  {
   "cell_type": "code",
   "execution_count": 7,
   "metadata": {},
   "outputs": [
    {
     "data": {
      "text/plain": [
       "(199, 202, 252)"
      ]
     },
     "execution_count": 7,
     "metadata": {},
     "output_type": "execute_result"
    }
   ],
   "source": [
    "def color_invert(rgb):\n",
    "    if not isinstance(rgb, tuple) or len(rgb) != 3 or not all(0 <= i <= 255 for i in rgb):\n",
    "        raise ValueError(\"Input must be tuple containing rgb values\")\n",
    "\t\n",
    "    rgb_list = []\n",
    "    for i in rgb:\n",
    "        rgb_list.append(255 - i)\n",
    "    return tuple(rgb_list)\n",
    "\n",
    "color_invert((56, 53, 3))"
   ]
  }
 ],
 "metadata": {
  "kernelspec": {
   "display_name": "Python 3",
   "language": "python",
   "name": "python3"
  },
  "language_info": {
   "codemirror_mode": {
    "name": "ipython",
    "version": 3
   },
   "file_extension": ".py",
   "mimetype": "text/x-python",
   "name": "python",
   "nbconvert_exporter": "python",
   "pygments_lexer": "ipython3",
   "version": "3.11.2"
  },
  "orig_nbformat": 4
 },
 "nbformat": 4,
 "nbformat_minor": 2
}
